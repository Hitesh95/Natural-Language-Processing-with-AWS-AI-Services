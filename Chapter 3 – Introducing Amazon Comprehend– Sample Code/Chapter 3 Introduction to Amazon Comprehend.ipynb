{
 "cells": [
  {
   "cell_type": "code",
   "execution_count": 2,
   "id": "subtle-terrain",
   "metadata": {},
   "outputs": [],
   "source": [
    "\n",
    "\n",
    "import boto3\n",
    "\n",
    "\n",
    "# Amazon Comprehend client\n",
    "comprehend = boto3.client('comprehend')\n"
   ]
  },
  {
   "cell_type": "markdown",
   "id": "cooked-guest",
   "metadata": {},
   "source": [
    "# Entity Extraction Text Analysis Real time API"
   ]
  },
  {
   "cell_type": "code",
   "execution_count": 5,
   "id": "quantitative-batman",
   "metadata": {},
   "outputs": [],
   "source": [
    "SampleText=\"Packt is a publishing company founded in 2003 headquartered in Birmingham, UK, with offices in Mumbai, India. Packt primarily publishes print and electronic books and videos relating to information technology, including programming, web design, data analysis and hardware.\""
   ]
  },
  {
   "cell_type": "code",
   "execution_count": 6,
   "id": "innocent-cinema",
   "metadata": {},
   "outputs": [],
   "source": [
    "response = comprehend.detect_entities(\n",
    "    Text=SampleText,\n",
    "    LanguageCode='en')"
   ]
  },
  {
   "cell_type": "code",
   "execution_count": 8,
   "id": "familiar-banana",
   "metadata": {},
   "outputs": [
    {
     "name": "stdout",
     "output_type": "stream",
     "text": [
      "{\n",
      "    \"Entities\": [\n",
      "        {\n",
      "            \"BeginOffset\": 0,\n",
      "            \"EndOffset\": 5,\n",
      "            \"Score\": 0.995110809803009,\n",
      "            \"Text\": \"Packt\",\n",
      "            \"Type\": \"ORGANIZATION\"\n",
      "        },\n",
      "        {\n",
      "            \"BeginOffset\": 41,\n",
      "            \"EndOffset\": 45,\n",
      "            \"Score\": 0.9951934218406677,\n",
      "            \"Text\": \"2003\",\n",
      "            \"Type\": \"DATE\"\n",
      "        },\n",
      "        {\n",
      "            \"BeginOffset\": 63,\n",
      "            \"EndOffset\": 77,\n",
      "            \"Score\": 0.9813098311424255,\n",
      "            \"Text\": \"Birmingham, UK\",\n",
      "            \"Type\": \"LOCATION\"\n",
      "        },\n",
      "        {\n",
      "            \"BeginOffset\": 95,\n",
      "            \"EndOffset\": 108,\n",
      "            \"Score\": 0.9864111542701721,\n",
      "            \"Text\": \"Mumbai, India\",\n",
      "            \"Type\": \"LOCATION\"\n",
      "        },\n",
      "        {\n",
      "            \"BeginOffset\": 110,\n",
      "            \"EndOffset\": 115,\n",
      "            \"Score\": 0.9877771139144897,\n",
      "            \"Text\": \"Packt\",\n",
      "            \"Type\": \"ORGANIZATION\"\n",
      "        }\n",
      "    ],\n",
      "    \"ResponseMetadata\": {\n",
      "        \"HTTPHeaders\": {\n",
      "            \"content-length\": \"504\",\n",
      "            \"content-type\": \"application/x-amz-json-1.1\",\n",
      "            \"date\": \"Tue, 13 Apr 2021 15:28:24 GMT\",\n",
      "            \"x-amzn-requestid\": \"b1ea125d-5acc-4874-a106-510e55c40b6d\"\n",
      "        },\n",
      "        \"HTTPStatusCode\": 200,\n",
      "        \"RequestId\": \"b1ea125d-5acc-4874-a106-510e55c40b6d\",\n",
      "        \"RetryAttempts\": 0\n",
      "    }\n",
      "}\n"
     ]
    }
   ],
   "source": [
    "import json\n",
    "\n",
    "print (json.dumps(response, indent=4, sort_keys=True))"
   ]
  },
  {
   "cell_type": "markdown",
   "id": "unsigned-bradley",
   "metadata": {},
   "source": [
    "# Keyphrases Extraction Real Time APIs in French language"
   ]
  },
  {
   "cell_type": "code",
   "execution_count": 11,
   "id": "attached-olive",
   "metadata": {},
   "outputs": [],
   "source": [
    "SampleText=\"Packt est une société d'édition fondée en 2003 dont le siège est à Birmingham, au Royaume-Uni, avec des bureaux à Mumbai, en Inde. Packt publie principalement des livres et des vidéos imprimés et électroniques relatifs aux technologies de l'information, y compris la programmation, la conception Web, l'analyse de données et le matériel\""
   ]
  },
  {
   "cell_type": "code",
   "execution_count": 12,
   "id": "english-multiple",
   "metadata": {},
   "outputs": [],
   "source": [
    "response = comprehend.detect_key_phrases(\n",
    "    Text= SampleText,\n",
    "    LanguageCode='fr'\n",
    ")"
   ]
  },
  {
   "cell_type": "code",
   "execution_count": 14,
   "id": "interstate-blues",
   "metadata": {},
   "outputs": [
    {
     "name": "stdout",
     "output_type": "stream",
     "text": [
      "{\n",
      "    \"KeyPhrases\": [\n",
      "        {\n",
      "            \"BeginOffset\": 0,\n",
      "            \"EndOffset\": 5,\n",
      "            \"Score\": 1.0,\n",
      "            \"Text\": \"Packt\"\n",
      "        },\n",
      "        {\n",
      "            \"BeginOffset\": 10,\n",
      "            \"EndOffset\": 31,\n",
      "            \"Score\": 0.9999998211860657,\n",
      "            \"Text\": \"une soci\\u00e9t\\u00e9 d'\\u00e9dition\"\n",
      "        },\n",
      "        {\n",
      "            \"BeginOffset\": 42,\n",
      "            \"EndOffset\": 46,\n",
      "            \"Score\": 0.9999995231628418,\n",
      "            \"Text\": \"2003\"\n",
      "        },\n",
      "        {\n",
      "            \"BeginOffset\": 47,\n",
      "            \"EndOffset\": 60,\n",
      "            \"Score\": 0.9999982714653015,\n",
      "            \"Text\": \"dont le si\\u00e8ge\"\n",
      "        },\n",
      "        {\n",
      "            \"BeginOffset\": 67,\n",
      "            \"EndOffset\": 93,\n",
      "            \"Score\": 0.9880826473236084,\n",
      "            \"Text\": \"Birmingham, au Royaume-Uni\"\n",
      "        },\n",
      "        {\n",
      "            \"BeginOffset\": 100,\n",
      "            \"EndOffset\": 121,\n",
      "            \"Score\": 0.8736910223960876,\n",
      "            \"Text\": \"des bureaux \\u00e0 Mumbai,\"\n",
      "        },\n",
      "        {\n",
      "            \"BeginOffset\": 125,\n",
      "            \"EndOffset\": 129,\n",
      "            \"Score\": 0.9220616221427917,\n",
      "            \"Text\": \"Inde\"\n",
      "        },\n",
      "        {\n",
      "            \"BeginOffset\": 131,\n",
      "            \"EndOffset\": 136,\n",
      "            \"Score\": 1.0,\n",
      "            \"Text\": \"Packt\"\n",
      "        },\n",
      "        {\n",
      "            \"BeginOffset\": 159,\n",
      "            \"EndOffset\": 280,\n",
      "            \"Score\": 0.986960768699646,\n",
      "            \"Text\": \"des livres et des vid\\u00e9os imprim\\u00e9s et \\u00e9lectroniques relatifs aux technologies de l'information, y compris la programmation\"\n",
      "        },\n",
      "        {\n",
      "            \"BeginOffset\": 282,\n",
      "            \"EndOffset\": 299,\n",
      "            \"Score\": 0.9516461491584778,\n",
      "            \"Text\": \"la conception Web\"\n",
      "        },\n",
      "        {\n",
      "            \"BeginOffset\": 301,\n",
      "            \"EndOffset\": 321,\n",
      "            \"Score\": 0.9999990463256836,\n",
      "            \"Text\": \"l'analyse de donn\\u00e9es\"\n",
      "        },\n",
      "        {\n",
      "            \"BeginOffset\": 325,\n",
      "            \"EndOffset\": 336,\n",
      "            \"Score\": 0.9999940395355225,\n",
      "            \"Text\": \"le mat\\u00e9riel\"\n",
      "        }\n",
      "    ],\n",
      "    \"ResponseMetadata\": {\n",
      "        \"HTTPHeaders\": {\n",
      "            \"content-length\": \"1127\",\n",
      "            \"content-type\": \"application/x-amz-json-1.1\",\n",
      "            \"date\": \"Tue, 13 Apr 2021 15:34:25 GMT\",\n",
      "            \"x-amzn-requestid\": \"f4b5be55-022d-478f-8262-373e32f8cefc\"\n",
      "        },\n",
      "        \"HTTPStatusCode\": 200,\n",
      "        \"RequestId\": \"f4b5be55-022d-478f-8262-373e32f8cefc\",\n",
      "        \"RetryAttempts\": 0\n",
      "    }\n",
      "}\n"
     ]
    }
   ],
   "source": [
    "import json\n",
    "\n",
    "print (json.dumps(response, indent=4, sort_keys=True))"
   ]
  },
  {
   "cell_type": "markdown",
   "id": "fifth-butler",
   "metadata": {},
   "source": [
    "# Batch Real time API for Amazon Detect Sentiment Demo \n",
    "Multiple Document Synchronous Processing mode where you can call Amazon Comprehend with a collection of up to 25 documents and receive a synchronous response. "
   ]
  },
  {
   "cell_type": "markdown",
   "id": "registered-blackberry",
   "metadata": {},
   "source": [
    "# Packet Publication Book Reviews Setiment Analysis for the book 40 Algorithms Every Programmer Should Know\n",
    "https://www.packtpub.com/product/40-algorithms-every-programmer-should-know/9781789801217"
   ]
  },
  {
   "cell_type": "markdown",
   "id": "generous-tanzania",
   "metadata": {},
   "source": [
    "We are going to analyze some of the reviews for this book using batch snetiment analyis API."
   ]
  },
  {
   "cell_type": "code",
   "execution_count": 27,
   "id": "understood-scientist",
   "metadata": {},
   "outputs": [],
   "source": [
    "response = comprehend.batch_detect_sentiment(\n",
    "    TextList=[\n",
    "        'Well this is an area of my interest and this book is packed with essential knowledge','kinda all in one With good examples and rather easy to follow', 'There are good examples and samples in the book.', '40 Algorithms every Programmer should know is a good start to a vast topic about algorithms'\n",
    "    ],\n",
    "    LanguageCode='en'\n",
    ")"
   ]
  },
  {
   "cell_type": "code",
   "execution_count": 29,
   "id": "decent-munich",
   "metadata": {},
   "outputs": [
    {
     "name": "stdout",
     "output_type": "stream",
     "text": [
      "{\n",
      "    \"ErrorList\": [],\n",
      "    \"ResponseMetadata\": {\n",
      "        \"HTTPHeaders\": {\n",
      "            \"content-length\": \"733\",\n",
      "            \"content-type\": \"application/x-amz-json-1.1\",\n",
      "            \"date\": \"Tue, 13 Apr 2021 15:59:33 GMT\",\n",
      "            \"x-amzn-requestid\": \"35bac81a-114c-46a7-90c4-17fe3a53cc9e\"\n",
      "        },\n",
      "        \"HTTPStatusCode\": 200,\n",
      "        \"RequestId\": \"35bac81a-114c-46a7-90c4-17fe3a53cc9e\",\n",
      "        \"RetryAttempts\": 0\n",
      "    },\n",
      "    \"ResultList\": [\n",
      "        {\n",
      "            \"Index\": 0,\n",
      "            \"Sentiment\": \"POSITIVE\",\n",
      "            \"SentimentScore\": {\n",
      "                \"Mixed\": 0.004781718365848064,\n",
      "                \"Negative\": 0.00489041255787015,\n",
      "                \"Neutral\": 0.028603093698620796,\n",
      "                \"Positive\": 0.9617248177528381\n",
      "            }\n",
      "        },\n",
      "        {\n",
      "            \"Index\": 1,\n",
      "            \"Sentiment\": \"POSITIVE\",\n",
      "            \"SentimentScore\": {\n",
      "                \"Mixed\": 0.043538015335798264,\n",
      "                \"Negative\": 0.0020733894780278206,\n",
      "                \"Neutral\": 0.005934751592576504,\n",
      "                \"Positive\": 0.9484539031982422\n",
      "            }\n",
      "        },\n",
      "        {\n",
      "            \"Index\": 2,\n",
      "            \"Sentiment\": \"POSITIVE\",\n",
      "            \"SentimentScore\": {\n",
      "                \"Mixed\": 0.006463758181780577,\n",
      "                \"Negative\": 0.001142512890510261,\n",
      "                \"Neutral\": 0.00479789637029171,\n",
      "                \"Positive\": 0.9875959157943726\n",
      "            }\n",
      "        },\n",
      "        {\n",
      "            \"Index\": 3,\n",
      "            \"Sentiment\": \"NEUTRAL\",\n",
      "            \"SentimentScore\": {\n",
      "                \"Mixed\": 0.00010260937415296212,\n",
      "                \"Negative\": 0.004924369975924492,\n",
      "                \"Neutral\": 0.6275114417076111,\n",
      "                \"Positive\": 0.36746159195899963\n",
      "            }\n",
      "        }\n",
      "    ]\n",
      "}\n"
     ]
    }
   ],
   "source": [
    "print (json.dumps(response, indent=4, sort_keys=True))"
   ]
  },
  {
   "cell_type": "markdown",
   "id": "digital-trust",
   "metadata": {},
   "source": [
    "# Since the book reviews were in different languages. lets Identify the various languages in this book review"
   ]
  },
  {
   "cell_type": "code",
   "execution_count": 31,
   "id": "lasting-sharp",
   "metadata": {},
   "outputs": [],
   "source": [
    "response = comprehend.batch_detect_dominant_language(\n",
    "    TextList=[\n",
    "        'It include recenet algorithm trend. it is very helpful.','Je ne lai pas encore lu entièrement mais le livre semble expliquer de façon suffisamment claire lensemble de ces algorithmes.'\n",
    "    ]\n",
    ")"
   ]
  },
  {
   "cell_type": "code",
   "execution_count": 32,
   "id": "precise-consequence",
   "metadata": {},
   "outputs": [
    {
     "name": "stdout",
     "output_type": "stream",
     "text": [
      "{\n",
      "    \"ErrorList\": [],\n",
      "    \"ResponseMetadata\": {\n",
      "        \"HTTPHeaders\": {\n",
      "            \"content-length\": \"179\",\n",
      "            \"content-type\": \"application/x-amz-json-1.1\",\n",
      "            \"date\": \"Tue, 13 Apr 2021 16:03:59 GMT\",\n",
      "            \"x-amzn-requestid\": \"88d1ffc8-13c3-4cde-9c2b-ba47aba8d360\"\n",
      "        },\n",
      "        \"HTTPStatusCode\": 200,\n",
      "        \"RequestId\": \"88d1ffc8-13c3-4cde-9c2b-ba47aba8d360\",\n",
      "        \"RetryAttempts\": 0\n",
      "    },\n",
      "    \"ResultList\": [\n",
      "        {\n",
      "            \"Index\": 0,\n",
      "            \"Languages\": [\n",
      "                {\n",
      "                    \"LanguageCode\": \"en\",\n",
      "                    \"Score\": 0.9827539324760437\n",
      "                }\n",
      "            ]\n",
      "        },\n",
      "        {\n",
      "            \"Index\": 1,\n",
      "            \"Languages\": [\n",
      "                {\n",
      "                    \"LanguageCode\": \"fr\",\n",
      "                    \"Score\": 0.99605792760849\n",
      "                }\n",
      "            ]\n",
      "        }\n",
      "    ]\n",
      "}\n"
     ]
    }
   ],
   "source": [
    "print (json.dumps(response, indent=4, sort_keys=True))"
   ]
  },
  {
   "cell_type": "code",
   "execution_count": null,
   "id": "insured-petite",
   "metadata": {},
   "outputs": [],
   "source": []
  }
 ],
 "metadata": {
  "kernelspec": {
   "display_name": "conda_python3",
   "language": "python",
   "name": "conda_python3"
  },
  "language_info": {
   "codemirror_mode": {
    "name": "ipython",
    "version": 3
   },
   "file_extension": ".py",
   "mimetype": "text/x-python",
   "name": "python",
   "nbconvert_exporter": "python",
   "pygments_lexer": "ipython3",
   "version": "3.6.13"
  }
 },
 "nbformat": 4,
 "nbformat_minor": 5
}
